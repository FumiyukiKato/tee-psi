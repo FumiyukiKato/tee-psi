{
 "cells": [
  {
   "cell_type": "code",
   "execution_count": 6,
   "metadata": {},
   "outputs": [],
   "source": [
    "import time\n",
    "from psi.protocol import rsa\n",
    "from psi.datastructure import bloom_filter\n",
    "\n",
    "def run_protocol(client_set, server_set):\n",
    "    ## BASE\n",
    "    server = rsa.Server()\n",
    "    public_key = server.public_key\n",
    "    client = rsa.Client(public_key)\n",
    "    random_factors = client.random_factors(len(client_set))\n",
    "    ## SETUP\n",
    "    signed_server_set = server.sign_set(server_set)\n",
    "    # must encode to bytes\n",
    "    signed_server_set = [str(sss).encode() for sss in signed_server_set]\n",
    "    bf = bloom_filter.build_from(signed_server_set)\n",
    "    ## ONLINE\n",
    "    A = client.blind_set(client_set, random_factors)\n",
    "    B = server.sign_set(A)\n",
    "    unblinded_client_set = client.unblind_set(B, random_factors)\n",
    "    # must encode to bytes\n",
    "    unblinded_client_set = [str(ucs).encode() for ucs in unblinded_client_set]\n",
    "    \n",
    "    intr = client.intersect(client_set, unblinded_client_set, bf)\n",
    "    return intr"
   ]
  },
  {
   "cell_type": "code",
   "execution_count": 17,
   "metadata": {},
   "outputs": [],
   "source": [
    "listA = [i for i in range(10)]\n",
    "listB = [i for i in range(1000)]"
   ]
  },
  {
   "cell_type": "code",
   "execution_count": 19,
   "metadata": {},
   "outputs": [
    {
     "name": "stdout",
     "output_type": "stream",
     "text": [
      "elapsed_time:3401.7698764801025[ms]\n",
      "[0, 1, 2, 3, 4]\n"
     ]
    }
   ],
   "source": [
    "start = time.time()\n",
    "result = run_protocol(listA, listB)\n",
    "elapsed_time = time.time() - start\n",
    "print (\"elapsed_time:{0}\".format(elapsed_time*1000) + \"[ms]\")\n",
    "print(result[0:5])"
   ]
  },
  {
   "cell_type": "code",
   "execution_count": null,
   "metadata": {},
   "outputs": [],
   "source": []
  },
  {
   "cell_type": "code",
   "execution_count": null,
   "metadata": {},
   "outputs": [],
   "source": []
  }
 ],
 "metadata": {
  "kernelspec": {
   "display_name": "Python 3",
   "language": "python",
   "name": "python3"
  },
  "language_info": {
   "codemirror_mode": {
    "name": "ipython",
    "version": 3
   },
   "file_extension": ".py",
   "mimetype": "text/x-python",
   "name": "python",
   "nbconvert_exporter": "python",
   "pygments_lexer": "ipython3",
   "version": "3.7.0"
  }
 },
 "nbformat": 4,
 "nbformat_minor": 2
}
